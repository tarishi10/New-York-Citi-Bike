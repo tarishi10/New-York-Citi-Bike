{
 "cells": [
  {
   "cell_type": "markdown",
   "id": "966fac6b-9cfb-4d16-a1f1-943a6be0ece3",
   "metadata": {},
   "source": [
    "# Script contents:\n",
    "1. Import libraries and data\n",
    "2. Data preprocessing\n",
    "3. Exploratory analysis\n",
    "4. Plot the map "
   ]
  },
  {
   "cell_type": "code",
   "execution_count": 1,
   "id": "ccf3a2bd-3814-4049-9228-8ba287146e5b",
   "metadata": {},
   "outputs": [],
   "source": [
    "import pandas as pd\n",
    "import os\n",
    "from keplergl import KeplerGl\n",
    "from pyproj import CRS\n",
    "import numpy as np\n",
    "from matplotlib import pyplot as plt"
   ]
  },
  {
   "cell_type": "code",
   "execution_count": 5,
   "id": "1b43036f-7372-42f0-ae44-77bca7f6c1af",
   "metadata": {},
   "outputs": [],
   "source": [
    "df = pd.read_csv(\"NY_citibikes_data.csv\", usecols=['date', 'avgTemp', 'ride_id', 'start_station_name', 'end_station_name','start_lat','start_lng','end_lat','end_lng'])"
   ]
  },
  {
   "cell_type": "code",
   "execution_count": 6,
   "id": "daf68998-f6cf-4564-a6d2-51bfd520401d",
   "metadata": {},
   "outputs": [
    {
     "data": {
      "text/html": [
       "<div>\n",
       "<style scoped>\n",
       "    .dataframe tbody tr th:only-of-type {\n",
       "        vertical-align: middle;\n",
       "    }\n",
       "\n",
       "    .dataframe tbody tr th {\n",
       "        vertical-align: top;\n",
       "    }\n",
       "\n",
       "    .dataframe thead th {\n",
       "        text-align: right;\n",
       "    }\n",
       "</style>\n",
       "<table border=\"1\" class=\"dataframe\">\n",
       "  <thead>\n",
       "    <tr style=\"text-align: right;\">\n",
       "      <th></th>\n",
       "      <th>ride_id</th>\n",
       "      <th>start_station_name</th>\n",
       "      <th>end_station_name</th>\n",
       "      <th>start_lat</th>\n",
       "      <th>start_lng</th>\n",
       "      <th>end_lat</th>\n",
       "      <th>end_lng</th>\n",
       "      <th>date</th>\n",
       "      <th>avgTemp</th>\n",
       "    </tr>\n",
       "  </thead>\n",
       "  <tbody>\n",
       "    <tr>\n",
       "      <th>0</th>\n",
       "      <td>BFD29218AB271154</td>\n",
       "      <td>West End Ave &amp; W 107 St</td>\n",
       "      <td>Mt Morris Park W &amp; W 120 St</td>\n",
       "      <td>40.802117</td>\n",
       "      <td>-73.968181</td>\n",
       "      <td>40.804038</td>\n",
       "      <td>-73.945925</td>\n",
       "      <td>2022-01-21</td>\n",
       "      <td>-6.0</td>\n",
       "    </tr>\n",
       "    <tr>\n",
       "      <th>1</th>\n",
       "      <td>7C953F2FD7BE1302</td>\n",
       "      <td>4 Ave &amp; 3 St</td>\n",
       "      <td>Boerum Pl\\t&amp; Pacific St</td>\n",
       "      <td>40.673746</td>\n",
       "      <td>-73.985649</td>\n",
       "      <td>40.688489</td>\n",
       "      <td>-73.991160</td>\n",
       "      <td>2022-01-10</td>\n",
       "      <td>1.6</td>\n",
       "    </tr>\n",
       "    <tr>\n",
       "      <th>2</th>\n",
       "      <td>95893ABD40CED4B8</td>\n",
       "      <td>1 Ave &amp; E 62 St</td>\n",
       "      <td>5 Ave &amp; E 29 St</td>\n",
       "      <td>40.761227</td>\n",
       "      <td>-73.960940</td>\n",
       "      <td>40.745168</td>\n",
       "      <td>-73.986831</td>\n",
       "      <td>2022-01-26</td>\n",
       "      <td>-2.3</td>\n",
       "    </tr>\n",
       "    <tr>\n",
       "      <th>3</th>\n",
       "      <td>F853B50772137378</td>\n",
       "      <td>2 Ave &amp; E 96 St</td>\n",
       "      <td>5 Ave &amp; E 29 St</td>\n",
       "      <td>40.783964</td>\n",
       "      <td>-73.947167</td>\n",
       "      <td>40.745168</td>\n",
       "      <td>-73.986831</td>\n",
       "      <td>2022-01-03</td>\n",
       "      <td>1.4</td>\n",
       "    </tr>\n",
       "    <tr>\n",
       "      <th>4</th>\n",
       "      <td>7590ADF834797B4B</td>\n",
       "      <td>6 Ave &amp; W 34 St</td>\n",
       "      <td>5 Ave &amp; E 29 St</td>\n",
       "      <td>40.749640</td>\n",
       "      <td>-73.988050</td>\n",
       "      <td>40.745168</td>\n",
       "      <td>-73.986831</td>\n",
       "      <td>2022-01-22</td>\n",
       "      <td>-5.9</td>\n",
       "    </tr>\n",
       "  </tbody>\n",
       "</table>\n",
       "</div>"
      ],
      "text/plain": [
       "            ride_id       start_station_name             end_station_name  \\\n",
       "0  BFD29218AB271154  West End Ave & W 107 St  Mt Morris Park W & W 120 St   \n",
       "1  7C953F2FD7BE1302             4 Ave & 3 St      Boerum Pl\\t& Pacific St   \n",
       "2  95893ABD40CED4B8          1 Ave & E 62 St              5 Ave & E 29 St   \n",
       "3  F853B50772137378          2 Ave & E 96 St              5 Ave & E 29 St   \n",
       "4  7590ADF834797B4B          6 Ave & W 34 St              5 Ave & E 29 St   \n",
       "\n",
       "   start_lat  start_lng    end_lat    end_lng        date  avgTemp  \n",
       "0  40.802117 -73.968181  40.804038 -73.945925  2022-01-21     -6.0  \n",
       "1  40.673746 -73.985649  40.688489 -73.991160  2022-01-10      1.6  \n",
       "2  40.761227 -73.960940  40.745168 -73.986831  2022-01-26     -2.3  \n",
       "3  40.783964 -73.947167  40.745168 -73.986831  2022-01-03      1.4  \n",
       "4  40.749640 -73.988050  40.745168 -73.986831  2022-01-22     -5.9  "
      ]
     },
     "execution_count": 6,
     "metadata": {},
     "output_type": "execute_result"
    }
   ],
   "source": [
    "df.head()# Read just the header"
   ]
  },
  {
   "cell_type": "markdown",
   "id": "594dbafb-3a12-40ea-9192-d82cb8a7fbb4",
   "metadata": {},
   "source": [
    "### 2. Data preprocessing"
   ]
  },
  {
   "cell_type": "code",
   "execution_count": 7,
   "id": "428f4555-2221-42d2-addc-8178b423aff2",
   "metadata": {},
   "outputs": [],
   "source": [
    "# Create a value column and group by start and end station \n",
    "\n",
    "df['value'] = 1\n",
    "df_group = df.groupby(['start_station_name', 'end_station_name'])['value'].count().reset_index()"
   ]
  },
  {
   "cell_type": "code",
   "execution_count": 8,
   "id": "cbd4655c-5e8b-41be-9fc0-51529a2277dd",
   "metadata": {},
   "outputs": [
    {
     "data": {
      "text/html": [
       "<div>\n",
       "<style scoped>\n",
       "    .dataframe tbody tr th:only-of-type {\n",
       "        vertical-align: middle;\n",
       "    }\n",
       "\n",
       "    .dataframe tbody tr th {\n",
       "        vertical-align: top;\n",
       "    }\n",
       "\n",
       "    .dataframe thead th {\n",
       "        text-align: right;\n",
       "    }\n",
       "</style>\n",
       "<table border=\"1\" class=\"dataframe\">\n",
       "  <thead>\n",
       "    <tr style=\"text-align: right;\">\n",
       "      <th></th>\n",
       "      <th>start_station_name</th>\n",
       "      <th>end_station_name</th>\n",
       "      <th>value</th>\n",
       "    </tr>\n",
       "  </thead>\n",
       "  <tbody>\n",
       "    <tr>\n",
       "      <th>0</th>\n",
       "      <td>1 Ave &amp; E 110 St</td>\n",
       "      <td>1 Ave &amp; E 110 St</td>\n",
       "      <td>791</td>\n",
       "    </tr>\n",
       "    <tr>\n",
       "      <th>1</th>\n",
       "      <td>1 Ave &amp; E 110 St</td>\n",
       "      <td>1 Ave &amp; E 18 St</td>\n",
       "      <td>2</td>\n",
       "    </tr>\n",
       "    <tr>\n",
       "      <th>2</th>\n",
       "      <td>1 Ave &amp; E 110 St</td>\n",
       "      <td>1 Ave &amp; E 30 St</td>\n",
       "      <td>4</td>\n",
       "    </tr>\n",
       "    <tr>\n",
       "      <th>3</th>\n",
       "      <td>1 Ave &amp; E 110 St</td>\n",
       "      <td>1 Ave &amp; E 39 St</td>\n",
       "      <td>1</td>\n",
       "    </tr>\n",
       "    <tr>\n",
       "      <th>4</th>\n",
       "      <td>1 Ave &amp; E 110 St</td>\n",
       "      <td>1 Ave &amp; E 44 St</td>\n",
       "      <td>12</td>\n",
       "    </tr>\n",
       "  </tbody>\n",
       "</table>\n",
       "</div>"
      ],
      "text/plain": [
       "  start_station_name  end_station_name  value\n",
       "0   1 Ave & E 110 St  1 Ave & E 110 St    791\n",
       "1   1 Ave & E 110 St   1 Ave & E 18 St      2\n",
       "2   1 Ave & E 110 St   1 Ave & E 30 St      4\n",
       "3   1 Ave & E 110 St   1 Ave & E 39 St      1\n",
       "4   1 Ave & E 110 St   1 Ave & E 44 St     12"
      ]
     },
     "execution_count": 8,
     "metadata": {},
     "output_type": "execute_result"
    }
   ],
   "source": [
    "df_group.head()"
   ]
  },
  {
   "cell_type": "code",
   "execution_count": 9,
   "id": "b2ef58df-4fcd-4495-baca-67445f928c57",
   "metadata": {},
   "outputs": [
    {
     "data": {
      "text/html": [
       "<div>\n",
       "<style scoped>\n",
       "    .dataframe tbody tr th:only-of-type {\n",
       "        vertical-align: middle;\n",
       "    }\n",
       "\n",
       "    .dataframe tbody tr th {\n",
       "        vertical-align: top;\n",
       "    }\n",
       "\n",
       "    .dataframe thead th {\n",
       "        text-align: right;\n",
       "    }\n",
       "</style>\n",
       "<table border=\"1\" class=\"dataframe\">\n",
       "  <thead>\n",
       "    <tr style=\"text-align: right;\">\n",
       "      <th></th>\n",
       "      <th>start_station_name</th>\n",
       "      <th>end_station_name</th>\n",
       "      <th>value</th>\n",
       "    </tr>\n",
       "  </thead>\n",
       "  <tbody>\n",
       "    <tr>\n",
       "      <th>0</th>\n",
       "      <td>1 Ave &amp; E 110 St</td>\n",
       "      <td>1 Ave &amp; E 110 St</td>\n",
       "      <td>791</td>\n",
       "    </tr>\n",
       "    <tr>\n",
       "      <th>1</th>\n",
       "      <td>1 Ave &amp; E 110 St</td>\n",
       "      <td>1 Ave &amp; E 18 St</td>\n",
       "      <td>2</td>\n",
       "    </tr>\n",
       "    <tr>\n",
       "      <th>2</th>\n",
       "      <td>1 Ave &amp; E 110 St</td>\n",
       "      <td>1 Ave &amp; E 30 St</td>\n",
       "      <td>4</td>\n",
       "    </tr>\n",
       "    <tr>\n",
       "      <th>3</th>\n",
       "      <td>1 Ave &amp; E 110 St</td>\n",
       "      <td>1 Ave &amp; E 39 St</td>\n",
       "      <td>1</td>\n",
       "    </tr>\n",
       "    <tr>\n",
       "      <th>4</th>\n",
       "      <td>1 Ave &amp; E 110 St</td>\n",
       "      <td>1 Ave &amp; E 44 St</td>\n",
       "      <td>12</td>\n",
       "    </tr>\n",
       "    <tr>\n",
       "      <th>...</th>\n",
       "      <td>...</td>\n",
       "      <td>...</td>\n",
       "      <td>...</td>\n",
       "    </tr>\n",
       "    <tr>\n",
       "      <th>1013417</th>\n",
       "      <td>Yankee Ferry Terminal</td>\n",
       "      <td>Water St &amp; Main St</td>\n",
       "      <td>4</td>\n",
       "    </tr>\n",
       "    <tr>\n",
       "      <th>1013418</th>\n",
       "      <td>Yankee Ferry Terminal</td>\n",
       "      <td>West St &amp; Chambers St</td>\n",
       "      <td>6</td>\n",
       "    </tr>\n",
       "    <tr>\n",
       "      <th>1013419</th>\n",
       "      <td>Yankee Ferry Terminal</td>\n",
       "      <td>West St &amp; Liberty St</td>\n",
       "      <td>4</td>\n",
       "    </tr>\n",
       "    <tr>\n",
       "      <th>1013420</th>\n",
       "      <td>Yankee Ferry Terminal</td>\n",
       "      <td>West Thames St</td>\n",
       "      <td>1</td>\n",
       "    </tr>\n",
       "    <tr>\n",
       "      <th>1013421</th>\n",
       "      <td>Yankee Ferry Terminal</td>\n",
       "      <td>Yankee Ferry Terminal</td>\n",
       "      <td>5759</td>\n",
       "    </tr>\n",
       "  </tbody>\n",
       "</table>\n",
       "<p>1013422 rows × 3 columns</p>\n",
       "</div>"
      ],
      "text/plain": [
       "            start_station_name       end_station_name  value\n",
       "0             1 Ave & E 110 St       1 Ave & E 110 St    791\n",
       "1             1 Ave & E 110 St        1 Ave & E 18 St      2\n",
       "2             1 Ave & E 110 St        1 Ave & E 30 St      4\n",
       "3             1 Ave & E 110 St        1 Ave & E 39 St      1\n",
       "4             1 Ave & E 110 St        1 Ave & E 44 St     12\n",
       "...                        ...                    ...    ...\n",
       "1013417  Yankee Ferry Terminal     Water St & Main St      4\n",
       "1013418  Yankee Ferry Terminal  West St & Chambers St      6\n",
       "1013419  Yankee Ferry Terminal   West St & Liberty St      4\n",
       "1013420  Yankee Ferry Terminal         West Thames St      1\n",
       "1013421  Yankee Ferry Terminal  Yankee Ferry Terminal   5759\n",
       "\n",
       "[1013422 rows x 3 columns]"
      ]
     },
     "execution_count": 9,
     "metadata": {},
     "output_type": "execute_result"
    }
   ],
   "source": [
    "df_group"
   ]
  },
  {
   "cell_type": "code",
   "execution_count": 10,
   "id": "bc7101a6-5440-4a94-9874-ccf97c4096ab",
   "metadata": {},
   "outputs": [
    {
     "name": "stdout",
     "output_type": "stream",
     "text": [
      "29768714\n",
      "(29838806, 10)\n"
     ]
    }
   ],
   "source": [
    "print(df_group['value'].sum())\n",
    "print(df.shape)"
   ]
  },
  {
   "cell_type": "code",
   "execution_count": 11,
   "id": "50996a33-fcdf-4baa-8250-28e5c090f95e",
   "metadata": {},
   "outputs": [
    {
     "data": {
      "text/plain": [
       "count    1.013422e+06\n",
       "mean     2.937445e+01\n",
       "std      9.925212e+01\n",
       "min      1.000000e+00\n",
       "25%      1.000000e+00\n",
       "50%      4.000000e+00\n",
       "75%      1.700000e+01\n",
       "max      1.204100e+04\n",
       "Name: value, dtype: float64"
      ]
     },
     "execution_count": 11,
     "metadata": {},
     "output_type": "execute_result"
    }
   ],
   "source": [
    "df_group['value'].describe()"
   ]
  },
  {
   "cell_type": "markdown",
   "id": "c9723029-4e7d-4106-a0b6-8d7eba57ba41",
   "metadata": {},
   "source": [
    "### 3. Exploratory analysis"
   ]
  },
  {
   "cell_type": "code",
   "execution_count": 12,
   "id": "c3a396dc-0385-4f61-a99a-8f1c60d782ab",
   "metadata": {},
   "outputs": [
    {
     "data": {
      "image/png": "[encoded data removed]",
      "text/plain": [
       "<Figure size 640x480 with 1 Axes>"
      ]
     },
     "metadata": {},
     "output_type": "display_data"
    }
   ],
   "source": [
    "df_group['value'].hist(bins = 100)\n",
    "plt.show()"
   ]
  },
  {
   "cell_type": "code",
   "execution_count": 13,
   "id": "9e030d10-9ce2-465e-8814-7d3152a0ad81",
   "metadata": {},
   "outputs": [
    {
     "data": {
      "text/plain": [
       "[]"
      ]
     },
     "execution_count": 13,
     "metadata": {},
     "output_type": "execute_result"
    },
    {
     "data": {
      "image/png": "[encoded data removed]",
      "text/plain": [
       "<Figure size 640x480 with 1 Axes>"
      ]
     },
     "metadata": {},
     "output_type": "display_data"
    }
   ],
   "source": [
    "box_plot=df_group.boxplot(column='value')\n",
    "box_plot.plot()"
   ]
  },
  {
   "cell_type": "code",
   "execution_count": 14,
   "id": "7d85f548-0527-46b3-88e8-e85f20bc435e",
   "metadata": {},
   "outputs": [
    {
     "data": {
      "text/plain": [
       "value\n",
       "1        268288\n",
       "2        128320\n",
       "3         78055\n",
       "4         54835\n",
       "5         40767\n",
       "          ...  \n",
       "2740          1\n",
       "1814          1\n",
       "12041         1\n",
       "3227          1\n",
       "5759          1\n",
       "Name: count, Length: 1849, dtype: int64"
      ]
     },
     "execution_count": 14,
     "metadata": {},
     "output_type": "execute_result"
    }
   ],
   "source": [
    "df_group['value'].sort_index().value_counts()"
   ]
  },
  {
   "cell_type": "code",
   "execution_count": 15,
   "id": "a1460926-72de-46e2-b9c1-36e93db2f14d",
   "metadata": {},
   "outputs": [
    {
     "data": {
      "text/html": [
       "<div>\n",
       "<style scoped>\n",
       "    .dataframe tbody tr th:only-of-type {\n",
       "        vertical-align: middle;\n",
       "    }\n",
       "\n",
       "    .dataframe tbody tr th {\n",
       "        vertical-align: top;\n",
       "    }\n",
       "\n",
       "    .dataframe thead th {\n",
       "        text-align: right;\n",
       "    }\n",
       "</style>\n",
       "<table border=\"1\" class=\"dataframe\">\n",
       "  <thead>\n",
       "    <tr style=\"text-align: right;\">\n",
       "      <th></th>\n",
       "      <th>start_station_name</th>\n",
       "      <th>end_station_name</th>\n",
       "      <th>value</th>\n",
       "    </tr>\n",
       "  </thead>\n",
       "  <tbody>\n",
       "    <tr>\n",
       "      <th>0</th>\n",
       "      <td>1 Ave &amp; E 110 St</td>\n",
       "      <td>1 Ave &amp; E 110 St</td>\n",
       "      <td>791</td>\n",
       "    </tr>\n",
       "    <tr>\n",
       "      <th>1</th>\n",
       "      <td>1 Ave &amp; E 110 St</td>\n",
       "      <td>1 Ave &amp; E 18 St</td>\n",
       "      <td>2</td>\n",
       "    </tr>\n",
       "    <tr>\n",
       "      <th>2</th>\n",
       "      <td>1 Ave &amp; E 110 St</td>\n",
       "      <td>1 Ave &amp; E 30 St</td>\n",
       "      <td>4</td>\n",
       "    </tr>\n",
       "    <tr>\n",
       "      <th>3</th>\n",
       "      <td>1 Ave &amp; E 110 St</td>\n",
       "      <td>1 Ave &amp; E 39 St</td>\n",
       "      <td>1</td>\n",
       "    </tr>\n",
       "    <tr>\n",
       "      <th>4</th>\n",
       "      <td>1 Ave &amp; E 110 St</td>\n",
       "      <td>1 Ave &amp; E 44 St</td>\n",
       "      <td>12</td>\n",
       "    </tr>\n",
       "  </tbody>\n",
       "</table>\n",
       "</div>"
      ],
      "text/plain": [
       "  start_station_name  end_station_name  value\n",
       "0   1 Ave & E 110 St  1 Ave & E 110 St    791\n",
       "1   1 Ave & E 110 St   1 Ave & E 18 St      2\n",
       "2   1 Ave & E 110 St   1 Ave & E 30 St      4\n",
       "3   1 Ave & E 110 St   1 Ave & E 39 St      1\n",
       "4   1 Ave & E 110 St   1 Ave & E 44 St     12"
      ]
     },
     "execution_count": 15,
     "metadata": {},
     "output_type": "execute_result"
    }
   ],
   "source": [
    "df_group.head()"
   ]
  },
  {
   "cell_type": "code",
   "execution_count": 16,
   "id": "72a8a9fc-303a-47b9-912a-20c8fbac601b",
   "metadata": {},
   "outputs": [],
   "source": [
    "path=r'C:\\Users\\akul_\\OneDrive\\Documents\\Tarishi\\CF Data analysis bootcamp\\Data visualizations with Python (Specialization)\\Achievement 2- Dashboards with Python\\New-York-Citi-Bike'"
   ]
  },
  {
   "cell_type": "code",
   "execution_count": 17,
   "id": "a2eb7ed2-f88b-495b-b8d0-b618afb09537",
   "metadata": {},
   "outputs": [],
   "source": [
    "df_group.to_csv(os.path.join(\"Data\", \"df_groupby_final.csv\"), index=False)"
   ]
  },
  {
   "cell_type": "code",
   "execution_count": 25,
   "id": "4f301c71-bad4-4b34-b32c-ce7a207c91a7",
   "metadata": {},
   "outputs": [],
   "source": [
    "merged_df = pd.merge(df, df_group, on=['start_station_name', 'end_station_name'], how='inner')"
   ]
  },
  {
   "cell_type": "code",
   "execution_count": 26,
   "id": "c47ebd3e-11a3-4189-b54e-4eeebc6c294b",
   "metadata": {},
   "outputs": [
    {
     "data": {
      "text/html": [
       "<div>\n",
       "<style scoped>\n",
       "    .dataframe tbody tr th:only-of-type {\n",
       "        vertical-align: middle;\n",
       "    }\n",
       "\n",
       "    .dataframe tbody tr th {\n",
       "        vertical-align: top;\n",
       "    }\n",
       "\n",
       "    .dataframe thead th {\n",
       "        text-align: right;\n",
       "    }\n",
       "</style>\n",
       "<table border=\"1\" class=\"dataframe\">\n",
       "  <thead>\n",
       "    <tr style=\"text-align: right;\">\n",
       "      <th></th>\n",
       "      <th>ride_id</th>\n",
       "      <th>start_station_name</th>\n",
       "      <th>end_station_name</th>\n",
       "      <th>start_lat</th>\n",
       "      <th>start_lng</th>\n",
       "      <th>end_lat</th>\n",
       "      <th>end_lng</th>\n",
       "      <th>date</th>\n",
       "      <th>avgTemp</th>\n",
       "      <th>value_x</th>\n",
       "      <th>value_y</th>\n",
       "    </tr>\n",
       "  </thead>\n",
       "  <tbody>\n",
       "    <tr>\n",
       "      <th>0</th>\n",
       "      <td>BFD29218AB271154</td>\n",
       "      <td>West End Ave &amp; W 107 St</td>\n",
       "      <td>Mt Morris Park W &amp; W 120 St</td>\n",
       "      <td>40.802117</td>\n",
       "      <td>-73.968181</td>\n",
       "      <td>40.804038</td>\n",
       "      <td>-73.945925</td>\n",
       "      <td>2022-01-21</td>\n",
       "      <td>-6.0</td>\n",
       "      <td>1</td>\n",
       "      <td>54</td>\n",
       "    </tr>\n",
       "    <tr>\n",
       "      <th>1</th>\n",
       "      <td>7C953F2FD7BE1302</td>\n",
       "      <td>4 Ave &amp; 3 St</td>\n",
       "      <td>Boerum Pl\\t&amp; Pacific St</td>\n",
       "      <td>40.673746</td>\n",
       "      <td>-73.985649</td>\n",
       "      <td>40.688489</td>\n",
       "      <td>-73.991160</td>\n",
       "      <td>2022-01-10</td>\n",
       "      <td>1.6</td>\n",
       "      <td>1</td>\n",
       "      <td>44</td>\n",
       "    </tr>\n",
       "    <tr>\n",
       "      <th>2</th>\n",
       "      <td>95893ABD40CED4B8</td>\n",
       "      <td>1 Ave &amp; E 62 St</td>\n",
       "      <td>5 Ave &amp; E 29 St</td>\n",
       "      <td>40.761227</td>\n",
       "      <td>-73.960940</td>\n",
       "      <td>40.745168</td>\n",
       "      <td>-73.986831</td>\n",
       "      <td>2022-01-26</td>\n",
       "      <td>-2.3</td>\n",
       "      <td>1</td>\n",
       "      <td>55</td>\n",
       "    </tr>\n",
       "    <tr>\n",
       "      <th>3</th>\n",
       "      <td>F853B50772137378</td>\n",
       "      <td>2 Ave &amp; E 96 St</td>\n",
       "      <td>5 Ave &amp; E 29 St</td>\n",
       "      <td>40.783964</td>\n",
       "      <td>-73.947167</td>\n",
       "      <td>40.745168</td>\n",
       "      <td>-73.986831</td>\n",
       "      <td>2022-01-03</td>\n",
       "      <td>1.4</td>\n",
       "      <td>1</td>\n",
       "      <td>14</td>\n",
       "    </tr>\n",
       "    <tr>\n",
       "      <th>4</th>\n",
       "      <td>7590ADF834797B4B</td>\n",
       "      <td>6 Ave &amp; W 34 St</td>\n",
       "      <td>5 Ave &amp; E 29 St</td>\n",
       "      <td>40.749640</td>\n",
       "      <td>-73.988050</td>\n",
       "      <td>40.745168</td>\n",
       "      <td>-73.986831</td>\n",
       "      <td>2022-01-22</td>\n",
       "      <td>-5.9</td>\n",
       "      <td>1</td>\n",
       "      <td>270</td>\n",
       "    </tr>\n",
       "  </tbody>\n",
       "</table>\n",
       "</div>"
      ],
      "text/plain": [
       "            ride_id       start_station_name             end_station_name  \\\n",
       "0  BFD29218AB271154  West End Ave & W 107 St  Mt Morris Park W & W 120 St   \n",
       "1  7C953F2FD7BE1302             4 Ave & 3 St      Boerum Pl\\t& Pacific St   \n",
       "2  95893ABD40CED4B8          1 Ave & E 62 St              5 Ave & E 29 St   \n",
       "3  F853B50772137378          2 Ave & E 96 St              5 Ave & E 29 St   \n",
       "4  7590ADF834797B4B          6 Ave & W 34 St              5 Ave & E 29 St   \n",
       "\n",
       "   start_lat  start_lng    end_lat    end_lng        date  avgTemp  value_x  \\\n",
       "0  40.802117 -73.968181  40.804038 -73.945925  2022-01-21     -6.0        1   \n",
       "1  40.673746 -73.985649  40.688489 -73.991160  2022-01-10      1.6        1   \n",
       "2  40.761227 -73.960940  40.745168 -73.986831  2022-01-26     -2.3        1   \n",
       "3  40.783964 -73.947167  40.745168 -73.986831  2022-01-03      1.4        1   \n",
       "4  40.749640 -73.988050  40.745168 -73.986831  2022-01-22     -5.9        1   \n",
       "\n",
       "   value_y  \n",
       "0       54  \n",
       "1       44  \n",
       "2       55  \n",
       "3       14  \n",
       "4      270  "
      ]
     },
     "execution_count": 26,
     "metadata": {},
     "output_type": "execute_result"
    }
   ],
   "source": [
    "merged_df.head()"
   ]
  },
  {
   "cell_type": "code",
   "execution_count": 27,
   "id": "1f44f0e9-8ee8-44be-9906-76cb5c112db9",
   "metadata": {},
   "outputs": [],
   "source": [
    "merged_df = merged_df.drop(columns=['value_x'])"
   ]
  },
  {
   "cell_type": "code",
   "execution_count": 28,
   "id": "eb78bbd5-c243-4492-8165-ecf54dcb81e2",
   "metadata": {},
   "outputs": [],
   "source": [
    "merged_df = merged_df.rename(columns={'value_y': 'trips'})"
   ]
  },
  {
   "cell_type": "code",
   "execution_count": 29,
   "id": "4a4d230f-9206-47eb-b76a-8238dbe2f678",
   "metadata": {},
   "outputs": [
    {
     "data": {
      "text/html": [
       "<div>\n",
       "<style scoped>\n",
       "    .dataframe tbody tr th:only-of-type {\n",
       "        vertical-align: middle;\n",
       "    }\n",
       "\n",
       "    .dataframe tbody tr th {\n",
       "        vertical-align: top;\n",
       "    }\n",
       "\n",
       "    .dataframe thead th {\n",
       "        text-align: right;\n",
       "    }\n",
       "</style>\n",
       "<table border=\"1\" class=\"dataframe\">\n",
       "  <thead>\n",
       "    <tr style=\"text-align: right;\">\n",
       "      <th></th>\n",
       "      <th>ride_id</th>\n",
       "      <th>start_station_name</th>\n",
       "      <th>end_station_name</th>\n",
       "      <th>start_lat</th>\n",
       "      <th>start_lng</th>\n",
       "      <th>end_lat</th>\n",
       "      <th>end_lng</th>\n",
       "      <th>date</th>\n",
       "      <th>avgTemp</th>\n",
       "      <th>trips</th>\n",
       "    </tr>\n",
       "  </thead>\n",
       "  <tbody>\n",
       "    <tr>\n",
       "      <th>0</th>\n",
       "      <td>BFD29218AB271154</td>\n",
       "      <td>West End Ave &amp; W 107 St</td>\n",
       "      <td>Mt Morris Park W &amp; W 120 St</td>\n",
       "      <td>40.802117</td>\n",
       "      <td>-73.968181</td>\n",
       "      <td>40.804038</td>\n",
       "      <td>-73.945925</td>\n",
       "      <td>2022-01-21</td>\n",
       "      <td>-6.0</td>\n",
       "      <td>54</td>\n",
       "    </tr>\n",
       "    <tr>\n",
       "      <th>1</th>\n",
       "      <td>7C953F2FD7BE1302</td>\n",
       "      <td>4 Ave &amp; 3 St</td>\n",
       "      <td>Boerum Pl\\t&amp; Pacific St</td>\n",
       "      <td>40.673746</td>\n",
       "      <td>-73.985649</td>\n",
       "      <td>40.688489</td>\n",
       "      <td>-73.991160</td>\n",
       "      <td>2022-01-10</td>\n",
       "      <td>1.6</td>\n",
       "      <td>44</td>\n",
       "    </tr>\n",
       "    <tr>\n",
       "      <th>2</th>\n",
       "      <td>95893ABD40CED4B8</td>\n",
       "      <td>1 Ave &amp; E 62 St</td>\n",
       "      <td>5 Ave &amp; E 29 St</td>\n",
       "      <td>40.761227</td>\n",
       "      <td>-73.960940</td>\n",
       "      <td>40.745168</td>\n",
       "      <td>-73.986831</td>\n",
       "      <td>2022-01-26</td>\n",
       "      <td>-2.3</td>\n",
       "      <td>55</td>\n",
       "    </tr>\n",
       "    <tr>\n",
       "      <th>3</th>\n",
       "      <td>F853B50772137378</td>\n",
       "      <td>2 Ave &amp; E 96 St</td>\n",
       "      <td>5 Ave &amp; E 29 St</td>\n",
       "      <td>40.783964</td>\n",
       "      <td>-73.947167</td>\n",
       "      <td>40.745168</td>\n",
       "      <td>-73.986831</td>\n",
       "      <td>2022-01-03</td>\n",
       "      <td>1.4</td>\n",
       "      <td>14</td>\n",
       "    </tr>\n",
       "    <tr>\n",
       "      <th>4</th>\n",
       "      <td>7590ADF834797B4B</td>\n",
       "      <td>6 Ave &amp; W 34 St</td>\n",
       "      <td>5 Ave &amp; E 29 St</td>\n",
       "      <td>40.749640</td>\n",
       "      <td>-73.988050</td>\n",
       "      <td>40.745168</td>\n",
       "      <td>-73.986831</td>\n",
       "      <td>2022-01-22</td>\n",
       "      <td>-5.9</td>\n",
       "      <td>270</td>\n",
       "    </tr>\n",
       "  </tbody>\n",
       "</table>\n",
       "</div>"
      ],
      "text/plain": [
       "            ride_id       start_station_name             end_station_name  \\\n",
       "0  BFD29218AB271154  West End Ave & W 107 St  Mt Morris Park W & W 120 St   \n",
       "1  7C953F2FD7BE1302             4 Ave & 3 St      Boerum Pl\\t& Pacific St   \n",
       "2  95893ABD40CED4B8          1 Ave & E 62 St              5 Ave & E 29 St   \n",
       "3  F853B50772137378          2 Ave & E 96 St              5 Ave & E 29 St   \n",
       "4  7590ADF834797B4B          6 Ave & W 34 St              5 Ave & E 29 St   \n",
       "\n",
       "   start_lat  start_lng    end_lat    end_lng        date  avgTemp  trips  \n",
       "0  40.802117 -73.968181  40.804038 -73.945925  2022-01-21     -6.0     54  \n",
       "1  40.673746 -73.985649  40.688489 -73.991160  2022-01-10      1.6     44  \n",
       "2  40.761227 -73.960940  40.745168 -73.986831  2022-01-26     -2.3     55  \n",
       "3  40.783964 -73.947167  40.745168 -73.986831  2022-01-03      1.4     14  \n",
       "4  40.749640 -73.988050  40.745168 -73.986831  2022-01-22     -5.9    270  "
      ]
     },
     "execution_count": 29,
     "metadata": {},
     "output_type": "execute_result"
    }
   ],
   "source": [
    "merged_df.head()"
   ]
  },
  {
   "cell_type": "code",
   "execution_count": 31,
   "id": "bdd2f367-1a78-4441-8e41-70d51fc01389",
   "metadata": {},
   "outputs": [
    {
     "data": {
      "text/plain": [
       "(29768714, 10)"
      ]
     },
     "execution_count": 31,
     "metadata": {},
     "output_type": "execute_result"
    }
   ],
   "source": [
    "merged_df.shape"
   ]
  },
  {
   "cell_type": "code",
   "execution_count": 32,
   "id": "ae62532b-097f-43df-ab14-6b9b3b02b124",
   "metadata": {},
   "outputs": [],
   "source": [
    "merged_df.to_csv(os.path.join(\"Data\", \"df_final_locations_for_map.csv\"), index=False)"
   ]
  },
  {
   "cell_type": "markdown",
   "id": "180a848d-e704-454d-b4ce-e8efb562b3cc",
   "metadata": {},
   "source": [
    "### 4. Plot the map"
   ]
  },
  {
   "cell_type": "code",
   "execution_count": 33,
   "id": "260d29cc-eef4-421a-bb20-bacc42131647",
   "metadata": {},
   "outputs": [
    {
     "name": "stdout",
     "output_type": "stream",
     "text": [
      "User Guide: https://docs.kepler.gl/docs/keplergl-jupyter\n"
     ]
    },
    {
     "name": "stderr",
     "output_type": "stream",
     "text": [
      "C:\\Users\\akul_\\anaconda3\\envs\\NY_Citi_Bikes\\Lib\\site-packages\\jupyter_client\\session.py:721: UserWarning: Message serialization failed with:\n",
      "Out of range float values are not JSON compliant: nan\n",
      "Supporting this message is deprecated in jupyter-client 7, please make sure your message is JSON-compliant\n",
      "  content = self.pack(content)\n"
     ]
    }
   ],
   "source": [
    "## Since the dataset is huge, the file was choking every time I ran the whole dataframe. Hence, I am randomly sampling the dataset\n",
    "df_sample = merged_df.sample(50000, random_state=42)  # 50k rows\n",
    "m = KeplerGl(height=700, data={\"data_1\": df_sample})"
   ]
  },
  {
   "cell_type": "code",
   "execution_count": 35,
   "id": "65fab799-9751-4103-a6c9-67447164c67c",
   "metadata": {},
   "outputs": [],
   "source": [
    "config = m.config"
   ]
  },
  {
   "cell_type": "code",
   "execution_count": 36,
   "id": "371fc189-e385-4247-a147-ceb489f3957b",
   "metadata": {},
   "outputs": [
    {
     "data": {
      "text/plain": [
       "{}"
      ]
     },
     "execution_count": 36,
     "metadata": {},
     "output_type": "execute_result"
    }
   ],
   "source": [
    "config"
   ]
  },
  {
   "cell_type": "code",
   "execution_count": 38,
   "id": "7daa1c9b-f5b2-4905-a68e-c20be3e03a7a",
   "metadata": {},
   "outputs": [
    {
     "name": "stdout",
     "output_type": "stream",
     "text": [
      "Map saved to NY_bike_trips_kepler_map.html!\n"
     ]
    }
   ],
   "source": [
    "# save map to HTML\n",
    "m.save_to_html(file_name = 'NY_bike_trips_kepler_map.html', read_only = False, config = config)\n"
   ]
  },
  {
   "cell_type": "markdown",
   "id": "e58217b1-f154-48be-8836-8ced83aea065",
   "metadata": {},
   "source": [
    "#### Due to different versions of Kepler.gl, ipywidgets and jupyter lab, the map was giving errors. Hence, I saved it to an HTML file. "
   ]
  },
  {
   "cell_type": "markdown",
   "id": "7317253e-729e-4b7e-aa75-da10dae49405",
   "metadata": {},
   "source": [
    "#### After adding layers and filtering it with trips that are more than 1000 values, so that they are not unique and more frequent. It is seen that the 12 Ave and W 40 st are the most popular start stations. Other popular start stations are University PI & E 14 st. There are also several other trips are very frequent on the east side of the city but are shorter. "
   ]
  },
  {
   "cell_type": "code",
   "execution_count": null,
   "id": "93a6d44c-e7d6-4ae0-91bd-e066c13e8365",
   "metadata": {},
   "outputs": [],
   "source": []
  }
 ],
 "metadata": {
  "kernelspec": {
   "display_name": "Python [conda env:NY_Citi_Bikes] *",
   "language": "python",
   "name": "conda-env-NY_Citi_Bikes-py"
  },
  "language_info": {
   "codemirror_mode": {
    "name": "ipython",
    "version": 3
   },
   "file_extension": ".py",
   "mimetype": "text/x-python",
   "name": "python",
   "nbconvert_exporter": "python",
   "pygments_lexer": "ipython3",
   "version": "3.13.5"
  }
 },
 "nbformat": 4,
 "nbformat_minor": 5
}
